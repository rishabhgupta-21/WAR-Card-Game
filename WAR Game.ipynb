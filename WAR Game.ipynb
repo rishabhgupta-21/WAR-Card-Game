{
 "cells": [
  {
   "cell_type": "markdown",
   "id": "d986e46d",
   "metadata": {},
   "source": [
    "# WAR GAME (with two Virtual/Computer Players)"
   ]
  },
  {
   "cell_type": "markdown",
   "id": "4c281315",
   "metadata": {},
   "source": [
    "## Global Variables "
   ]
  },
  {
   "cell_type": "markdown",
   "id": "fefed852",
   "metadata": {},
   "source": [
    "**What's cool about Global Variables is that we can also use them inside classes**"
   ]
  },
  {
   "cell_type": "code",
   "execution_count": 2,
   "id": "b3b009fe",
   "metadata": {},
   "outputs": [],
   "source": [
    "suits = (\"Spades\", \"Hearts\", \"Diamonds\", \"Clubs\")\n",
    "\n",
    "ranks = ('Two', 'Three', 'Four', 'Five', 'Six', 'Seven', 'Eight', 'Nine', 'Ten', 'Jack', 'Queen', 'King', 'Ace')\n",
    "\n",
    "values = {'Two':2, 'Three':3, 'Four':4, 'Five':5, 'Six':6, 'Seven':7, 'Eight':8, \n",
    "            'Nine':9, 'Ten':10, 'Jack':11, 'Queen':12, 'King':13, 'Ace':14}                   # Ace is the highest, thus 14"
   ]
  },
  {
   "cell_type": "markdown",
   "id": "85e78bca",
   "metadata": {},
   "source": [
    "## Card Class"
   ]
  },
  {
   "cell_type": "markdown",
   "id": "bf15a81c",
   "metadata": {},
   "source": [
    "We want this Card Class to be able to create a Card of any suit and rank. We can use a Global Dictionary Variable to assign values to each rank, and create a value Attribute with the help of that dictionary."
   ]
  },
  {
   "cell_type": "code",
   "execution_count": 3,
   "id": "8fc4fd73",
   "metadata": {},
   "outputs": [],
   "source": [
    "class Card():\n",
    "    # Constructor\n",
    "    def __init__(self, suit, rank):\n",
    "        self.suit = suit.capitalize()\n",
    "        self.rank = rank.capitalize()\n",
    "        self.value = values[self.rank]\n",
    "    \n",
    "    # print() Overloading\n",
    "    def __str__(self):\n",
    "        return self.rank + \" of \" + self.suit"
   ]
  },
  {
   "cell_type": "markdown",
   "id": "eb5af2c6",
   "metadata": {},
   "source": [
    "**It is difficult to compare two strings (rank Attribute). Thus, we need to create a dictionary of rank-value pairs**"
   ]
  },
  {
   "cell_type": "markdown",
   "id": "e003e9d6",
   "metadata": {},
   "source": [
    "## Deck Class"
   ]
  },
  {
   "cell_type": "markdown",
   "id": "d7d74447",
   "metadata": {},
   "source": [
    "We want this Deck class to be able to hold all 52 Cards (a List attribute would be appropriate), shuffle the cards in the deck (a method), and deal the cards to the two players (a method)"
   ]
  },
  {
   "cell_type": "code",
   "execution_count": 4,
   "id": "1200b72e",
   "metadata": {},
   "outputs": [],
   "source": [
    "import random"
   ]
  },
  {
   "cell_type": "code",
   "execution_count": 5,
   "id": "e802d75c",
   "metadata": {},
   "outputs": [],
   "source": [
    "class Deck():\n",
    "    \n",
    "    # Constructor\n",
    "    \n",
    "    def __init__(self):    # 'cards' is a List of all 52 Cards\n",
    "        ## self.cards = [Card(suit, rank) for suit in suits for rank in ranks]\n",
    "        \n",
    "        self.cards = []\n",
    "        \n",
    "        for suit in suits:\n",
    "            for rank in ranks:\n",
    "                self.cards.append(Card(suit, rank))\n",
    "    \n",
    "    \n",
    "    # Methods\n",
    "    \n",
    "    def shuffle(self):     # uses the built-in 'random' Library\n",
    "        random.shuffle(self.cards)\n",
    "        \n",
    "    def deal(self):        # deals one card\n",
    "        if len(self.cards) != 0:\n",
    "            return self.cards.pop()\n",
    "        else:\n",
    "            print(\"The deck is currently empty!\")"
   ]
  },
  {
   "cell_type": "markdown",
   "id": "6b633a1b",
   "metadata": {},
   "source": [
    "## Player Class"
   ]
  },
  {
   "cell_type": "markdown",
   "id": "b1e613d4",
   "metadata": {},
   "source": [
    "We want the Player Class to give any player the ability to hold his/her current list of cards. They should also be able to add or remove cards from their list."
   ]
  },
  {
   "cell_type": "code",
   "execution_count": 6,
   "id": "cc22492d",
   "metadata": {},
   "outputs": [],
   "source": [
    "class Player():\n",
    "    # Constructor\n",
    "    def __init__(self, name):\n",
    "        self.name = name\n",
    "        self.cards = []\n",
    "    \n",
    "    # Method for Adding Cards to the Back of the List / Bottom of the Deck \n",
    "    def add_cards(self, new_cards):\n",
    "        if type(new_cards) == type([]):\n",
    "            self.cards.extend(new_cards)          \n",
    "        else:\n",
    "            self.cards.append(new_cards)\n",
    "    \n",
    "    \n",
    "    # Method for Removing a Card from the Front of the List / Top of the Deck\n",
    "    def remove_card(self):\n",
    "        if len(self.cards) != 0:\n",
    "            return self.cards.pop(0)\n",
    "        else:\n",
    "            print(\"Player\", self.name, \"has no cards left to remove.\")\n",
    "\n",
    "            \n",
    "    # Overloaded print()\n",
    "    def __str__(self):\n",
    "        return f\"Player {self.name} has {len(self.cards)} card(s).\""
   ]
  },
  {
   "cell_type": "markdown",
   "id": "75ef6050",
   "metadata": {},
   "source": [
    "## GAME LOGIC"
   ]
  },
  {
   "cell_type": "markdown",
   "id": "9c782e48",
   "metadata": {},
   "source": [
    "During War, Players will have one card out each (which are equal in value, and cause the War).\n",
    "They will draw 3 Additional Cards out each.\n",
    "Then they will draw a 4th card, which will be compared to check who wins.\n",
    "If this 4th card is also a tie, then this process repeats, with the 4th card acting as the 1st card."
   ]
  },
  {
   "cell_type": "code",
   "execution_count": 35,
   "id": "e7ed1da3",
   "metadata": {},
   "outputs": [],
   "source": [
    "player1 = Player(\"Player 1\")\n",
    "player2 = Player(\"Player 2\")"
   ]
  },
  {
   "cell_type": "code",
   "execution_count": 36,
   "id": "b3ab6ea4",
   "metadata": {},
   "outputs": [],
   "source": [
    "deck_of_cards = Deck()"
   ]
  },
  {
   "cell_type": "code",
   "execution_count": 37,
   "id": "aba12b51",
   "metadata": {},
   "outputs": [],
   "source": [
    "deck_of_cards.shuffle()"
   ]
  },
  {
   "cell_type": "code",
   "execution_count": 38,
   "id": "5d85741c",
   "metadata": {},
   "outputs": [],
   "source": [
    "while len(deck_of_cards.cards) != 0:\n",
    "    player1.add_cards(deck_of_cards.deal())\n",
    "    player2.add_cards(deck_of_cards.deal())"
   ]
  },
  {
   "cell_type": "code",
   "execution_count": 39,
   "id": "db172aee",
   "metadata": {},
   "outputs": [],
   "source": [
    "game_on = True\n",
    "round_count = 1"
   ]
  },
  {
   "cell_type": "code",
   "execution_count": 40,
   "id": "a3fdb136",
   "metadata": {},
   "outputs": [
    {
     "name": "stdout",
     "output_type": "stream",
     "text": [
      "----------------------------------------------------\n",
      "ROUND 1\n",
      "Player 1 wins this round!\n",
      "----------------------------------------------------\n",
      "ROUND 2\n",
      "Player 2 wins this round!\n",
      "----------------------------------------------------\n",
      "ROUND 3\n",
      "Player 1 wins this round!\n",
      "----------------------------------------------------\n",
      "ROUND 4\n",
      "Player 2 wins this round!\n",
      "----------------------------------------------------\n",
      "ROUND 5\n",
      "Player 1 wins this round!\n",
      "----------------------------------------------------\n",
      "ROUND 6\n",
      "Player 1 wins this round!\n",
      "----------------------------------------------------\n",
      "ROUND 7\n",
      "Player 1 wins this round!\n",
      "----------------------------------------------------\n",
      "ROUND 8\n",
      "Player 2 wins this round!\n",
      "----------------------------------------------------\n",
      "ROUND 9\n",
      "Player 1 wins this round!\n",
      "----------------------------------------------------\n",
      "ROUND 10\n",
      "Player 2 wins this round!\n",
      "----------------------------------------------------\n",
      "ROUND 11\n",
      "WAR!\n",
      "Player 2 wins the WAR and also wins this round!\n",
      "----------------------------------------------------\n",
      "ROUND 12\n",
      "Player 2 wins this round!\n",
      "----------------------------------------------------\n",
      "ROUND 13\n",
      "Player 2 wins this round!\n",
      "----------------------------------------------------\n",
      "ROUND 14\n",
      "Player 2 wins this round!\n",
      "----------------------------------------------------\n",
      "ROUND 15\n",
      "Player 1 wins this round!\n",
      "----------------------------------------------------\n",
      "ROUND 16\n",
      "Player 1 wins this round!\n",
      "----------------------------------------------------\n",
      "ROUND 17\n",
      "Player 2 wins this round!\n",
      "----------------------------------------------------\n",
      "ROUND 18\n",
      "Player 2 wins this round!\n",
      "----------------------------------------------------\n",
      "ROUND 19\n",
      "WAR!\n",
      "Player 2 wins the WAR and also wins this round!\n",
      "----------------------------------------------------\n",
      "ROUND 20\n",
      "Player 2 wins this round!\n",
      "----------------------------------------------------\n",
      "ROUND 21\n",
      "Player 1 wins this round!\n",
      "----------------------------------------------------\n",
      "ROUND 22\n",
      "Player 2 wins this round!\n",
      "----------------------------------------------------\n",
      "ROUND 23\n",
      "Player 1 wins this round!\n",
      "----------------------------------------------------\n",
      "ROUND 24\n",
      "Player 2 wins this round!\n",
      "----------------------------------------------------\n",
      "ROUND 25\n",
      "Player 1 wins this round!\n",
      "----------------------------------------------------\n",
      "ROUND 26\n",
      "Player 2 wins this round!\n",
      "----------------------------------------------------\n",
      "ROUND 27\n",
      "Player 2 wins this round!\n",
      "----------------------------------------------------\n",
      "ROUND 28\n",
      "Player 2 wins this round!\n",
      "----------------------------------------------------\n",
      "ROUND 29\n",
      "Player 2 wins this round!\n",
      "----------------------------------------------------\n",
      "ROUND 30\n",
      "WAR!\n",
      "Player 2 wins the WAR and also wins this round!\n",
      "----------------------------------------------------\n",
      "ROUND 31\n",
      "Player 1 wins this round!\n",
      "----------------------------------------------------\n",
      "ROUND 32\n",
      "Player 2 wins this round!\n",
      "----------------------------------------------------\n",
      "ROUND 33\n",
      "Player 2 wins this round!\n",
      "----------------------------------------------------\n",
      "ROUND 34\n",
      "Player 2 wins this round!\n",
      "----------------------------------------------------\n",
      "ROUND 35\n",
      "Player 1 wins this round!\n",
      "----------------------------------------------------\n",
      "ROUND 36\n",
      "Player 2 wins this round!\n",
      "----------------------------------------------------\n",
      "ROUND 37\n",
      "Player 1 wins this round!\n",
      "----------------------------------------------------\n",
      "ROUND 38\n",
      "Player 2 wins this round!\n",
      "----------------------------------------------------\n",
      "ROUND 39\n",
      "Player 1 wins this round!\n",
      "----------------------------------------------------\n",
      "ROUND 40\n",
      "Player 2 wins this round!\n",
      "----------------------------------------------------\n",
      "ROUND 41\n",
      "Player 1 wins this round!\n",
      "----------------------------------------------------\n",
      "ROUND 42\n",
      "Player 2 wins this round!\n",
      "----------------------------------------------------\n",
      "ROUND 43\n",
      "Player 1 wins this round!\n",
      "----------------------------------------------------\n",
      "ROUND 44\n",
      "Player 2 wins this round!\n",
      "----------------------------------------------------\n",
      "ROUND 45\n",
      "Player 1 wins this round!\n",
      "----------------------------------------------------\n",
      "ROUND 46\n",
      "Player 2 wins this round!\n",
      "----------------------------------------------------\n",
      "ROUND 47\n",
      "Player 1 wins this round!\n",
      "----------------------------------------------------\n",
      "ROUND 48\n",
      "WAR!\n",
      "Player 2 wins the WAR and also wins this round!\n",
      "\n",
      "As Player 1 does not have any cards left...\n",
      "Congratulations! The winner of the game is Player 2 !!\n"
     ]
    }
   ],
   "source": [
    "while game_on:\n",
    "    \n",
    "    print(\"----------------------------------------------------\")\n",
    "    print(\"ROUND\", round_count)\n",
    "    \n",
    "    # Removing a Card to start the round\",\n",
    "    player1_card = player1.remove_card()\n",
    "    player2_card = player2.remove_card()\n",
    "\n",
    "    if player1_card.value < player2_card.value:\n",
    "        print(player2.name, \"wins this round!\")\n",
    "        player2.add_cards(player1_card)\n",
    "        player2.add_cards(player2_card)\n",
    "\n",
    "    elif player1_card.value > player2_card.value:\n",
    "        print(player1.name, \"wins this round!\")\n",
    "        player1.add_cards(player1_card)\n",
    "        player1.add_cards(player2_card)\n",
    "\n",
    "    else:\n",
    "        print(\"WAR!\")\n",
    "\n",
    "        player1_war_list = [player1_card]\n",
    "        player2_war_list = [player2_card]\n",
    "\n",
    "        # Variable for looping WARs\n",
    "        at_war = True\n",
    "\n",
    "        while at_war == True:\n",
    "\n",
    "            # Removing 3 Cards (if avaliable) from each player's deck     (FACE DOWN)\n",
    "            for i in range(3):\n",
    "                if len(player1.cards) == 0:\n",
    "                    player1_war_card = player1_war_list[-1]\n",
    "                    player2_war_card = player2_war_list[-1]\n",
    "                    break\n",
    "\n",
    "                if len(player2.cards) == 0:\n",
    "                    player1_war_card = player1_war_list[-1]\n",
    "                    player2_war_card = player2_war_list[-1]\n",
    "                    break\n",
    "\n",
    "                player1_war_list.append(player1.remove_card())\n",
    "                player2_war_list.append(player2.remove_card())\n",
    "\n",
    "\n",
    "            # Using the 4th card removed as a WAR Card\n",
    "            if len(player1.cards) != 0 and len(player2.cards) != 0:    # Only remove further cards when BOTH decks have Cards\n",
    "                player1_war_card = player1.remove_card()\n",
    "                player1_war_list.append(player1_war_card)\n",
    "\n",
    "                player2_war_card = player2.remove_card()\n",
    "                player2_war_list.append(player2_war_card)\n",
    "    \n",
    "            # Checking who won the WAR\n",
    "            if player1_war_card.value > player2_war_card.value:\n",
    "                print(player1.name, \"wins the WAR and also wins this round!\")\n",
    "                player1.add_cards(player1_war_list)\n",
    "                player1.add_cards(player2_war_list)\n",
    "\n",
    "                at_war = False\n",
    "\n",
    "            elif player1_war_card.value < player2_war_card.value:\n",
    "                print(player2.name, \"wins the WAR and also wins this round!\")\n",
    "                player2.add_cards(player1_war_list)\n",
    "                player2.add_cards(player2_war_list)\n",
    "\n",
    "                at_war = False\n",
    "\n",
    "            else:   # WAR Cards are also tied\n",
    "                if len(player1.cards) == 0:\n",
    "                    at_war = False\n",
    "                    game_on = False\n",
    " \n",
    "                elif len(player2.cards) == 0:\n",
    "                    at_war = False\n",
    "                    game_on = False\n",
    "\n",
    "                else:\n",
    "                    print(\"ANOTHER WAR!!\")\n",
    "                    continue\n",
    "\n",
    "\n",
    "    # CHECK to see if any Player WON\n",
    "    if len(player1.cards) == 0:\n",
    "        print(\"\\nAs\", player1.name, \"does not have any cards left...\")\n",
    "        print(\"Congratulations! The winner of the game is\", player2.name, \"!!\")\n",
    "        game_on = False\n",
    "                  \n",
    "    elif len(player2.cards) == 0:\n",
    "        print(\"\\nAs\", player2.name, \"does not have any cards left...\")\n",
    "        print(\"Congratulations! The winner of the game is\", player1.name, \"!\")\n",
    "        game_on = False\n",
    "\n",
    "    else:\n",
    "        round_count += 1\n",
    "        continue"
   ]
  },
  {
   "cell_type": "code",
   "execution_count": 41,
   "id": "0d4bac85",
   "metadata": {},
   "outputs": [
    {
     "name": "stdout",
     "output_type": "stream",
     "text": [
      "0\n"
     ]
    }
   ],
   "source": [
    "print(len(player1.cards))"
   ]
  },
  {
   "cell_type": "code",
   "execution_count": 42,
   "id": "33721910",
   "metadata": {},
   "outputs": [
    {
     "name": "stdout",
     "output_type": "stream",
     "text": [
      "52\n"
     ]
    }
   ],
   "source": [
    "print(len(player2.cards))"
   ]
  }
 ],
 "metadata": {
  "kernelspec": {
   "display_name": "Python 3 (ipykernel)",
   "language": "python",
   "name": "python3"
  },
  "language_info": {
   "codemirror_mode": {
    "name": "ipython",
    "version": 3
   },
   "file_extension": ".py",
   "mimetype": "text/x-python",
   "name": "python",
   "nbconvert_exporter": "python",
   "pygments_lexer": "ipython3",
   "version": "3.9.12"
  }
 },
 "nbformat": 4,
 "nbformat_minor": 5
}
